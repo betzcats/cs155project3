{
 "cells": [
  {
   "cell_type": "code",
   "execution_count": 1,
   "metadata": {},
   "outputs": [],
   "source": [
    "import os\n",
    "import numpy as np\n",
    "from IPython.display import HTML\n",
    "import json\n",
    "from HMM import unsupervised_HMM\n",
    "from HMM_helper import (\n",
    "    text_to_wordcloud,\n",
    "    states_to_wordclouds,\n",
    "    parse_observations,\n",
    "    sample_sentence,\n",
    "    visualize_sparsities,\n",
    "    animate_emission\n",
    ")\n",
    "import re\n",
    "import sys\n",
    "import random"
   ]
  },
  {
   "cell_type": "code",
   "execution_count": 4,
   "metadata": {},
   "outputs": [],
   "source": [
    "shakespeare_text = open(os.path.join(os.getcwd(), 'data_Shakespeare/shakespeare.txt')).read()"
   ]
  },
  {
   "cell_type": "code",
   "execution_count": 5,
   "metadata": {},
   "outputs": [],
   "source": [
    "# full_text = shakespeare_text + spenser_text\n",
    "obs, obs_map = parse_observations(shakespeare_text)"
   ]
  },
  {
   "cell_type": "code",
   "execution_count": 42,
   "metadata": {},
   "outputs": [],
   "source": [
    "def split_by_sonnet_shakespeare(text): \n",
    "    \"\"\"\n",
    "    Split Shakespeare text by sonnet. \n",
    "    \"\"\"\n",
    "    return shakespeare_text.split(\"\\n\\n\\n\")\n",
    "\n",
    "def build_rhyme_pairs(sonnets): \n",
    "    \"\"\"\n",
    "    Build a dictionary of rhyme pairs and their frequency of \n",
    "    occurrence in Shakespeare's sonnets. \n",
    "    \"\"\"\n",
    "    rhyme_pairs = dict()\n",
    "    \n",
    "    for i in range(0, len(sonnets)): \n",
    "        sonnet_num = i + 1\n",
    "        # Excluce Sonnet 99, Sonnet 126, and Sonnet 145. \n",
    "        # Sonnet 99 has 15 lines, Sonnet 126 has 12 lines, and Sonnet 145 is \n",
    "        # written in iambic tetrameter. All other sonnets follow the same \n",
    "        # structure. \n",
    "        if sonnet_num == 99 or sonnet_num == 126 or sonnet_num == 145: \n",
    "            pass\n",
    "        else: \n",
    "            # Append the last word of each line (remove punctuation)\n",
    "            lines = sonnets[i].split(\"\\n\")\n",
    "            end_words = [' ']\n",
    "            for j in range(1, 15): \n",
    "                words = lines[j].split(' ')\n",
    "                last_word = words[-1].strip()\n",
    "                last_word = re.sub(r'[^\\w\\-\\']', '', last_word).lower()\n",
    "                end_words.append(last_word)\n",
    "            \n",
    "            # Create pairs of rhyming words. Shakespeare's sonnets has the \n",
    "            # following rhyming structure per line: abab, cdcd, efef, gg. \n",
    "            rhyme_1 = (end_words[1], end_words[3])\n",
    "            rhyme_2 = (end_words[2], end_words[4])\n",
    "            rhyme_3 = (end_words[5], end_words[7])\n",
    "            rhyme_4 = (end_words[6], end_words[8])\n",
    "            rhyme_5 = (end_words[9], end_words[11])\n",
    "            rhyme_6 = (end_words[10], end_words[12])\n",
    "            rhyme_7 = (end_words[13], end_words[14])\n",
    "            \n",
    "            rhymes = [rhyme_1, rhyme_2, rhyme_3, rhyme_4, rhyme_5, rhyme_6, rhyme_7]\n",
    "            \n",
    "            # Add rhyming pairs to dictionary and keep in track of their \n",
    "            # frequency of occurrence. \n",
    "            for pair in rhymes: \n",
    "                if pair not in rhyme_pairs and pair[::-1] in rhyme_pairs: \n",
    "                    rhyme_pairs[pair[::-1]] += 1\n",
    "                elif pair in rhyme_pairs and pair[::-1] not in rhyme_pairs: \n",
    "                    rhyme_pairs[pair] += 1\n",
    "                else: \n",
    "                    rhyme_pairs[pair] = 1\n",
    "                    \n",
    "    return rhyme_pairs      "
   ]
  },
  {
   "cell_type": "code",
   "execution_count": 43,
   "metadata": {},
   "outputs": [],
   "source": [
    "sonnets = split_by_sonnet_shakespeare(shakespeare_text)\n",
    "rhyme_pairs = build_rhyme_pairs(sonnets)"
   ]
  },
  {
   "cell_type": "code",
   "execution_count": null,
   "metadata": {},
   "outputs": [],
   "source": []
  }
 ],
 "metadata": {
  "kernelspec": {
   "display_name": "Python 3",
   "language": "python",
   "name": "python3"
  },
  "language_info": {
   "codemirror_mode": {
    "name": "ipython",
    "version": 3
   },
   "file_extension": ".py",
   "mimetype": "text/x-python",
   "name": "python",
   "nbconvert_exporter": "python",
   "pygments_lexer": "ipython3",
   "version": "3.7.4"
  }
 },
 "nbformat": 4,
 "nbformat_minor": 4
}
