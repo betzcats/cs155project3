{
 "cells": [
  {
   "cell_type": "markdown",
   "metadata": {},
   "source": [
    "# Shakespeare x Spenser (HMM)"
   ]
  },
  {
   "cell_type": "code",
   "execution_count": 1,
   "metadata": {},
   "outputs": [],
   "source": [
    "import os\n",
    "import numpy as np\n",
    "from IPython.display import HTML\n",
    "import json\n",
    "from HMM import unsupervised_HMM\n",
    "from HMM_helper import (\n",
    "    text_to_wordcloud,\n",
    "    states_to_wordclouds,\n",
    "    parse_observations,\n",
    "    sample_sentence,\n",
    "    visualize_sparsities,\n",
    "    animate_emission\n",
    ")\n",
    "import re\n",
    "import sys\n",
    "import random"
   ]
  },
  {
   "cell_type": "code",
   "execution_count": 2,
   "metadata": {},
   "outputs": [],
   "source": [
    "shakespeare_text = open(os.path.join(os.getcwd(), 'data_Shakespeare/shakespeare.txt')).read()\n",
    "spenser_text = open(os.path.join(os.getcwd(), 'data_Shakespeare/spenser.txt')).read()"
   ]
  },
  {
   "cell_type": "code",
   "execution_count": 3,
   "metadata": {},
   "outputs": [],
   "source": [
    "full_text = shakespeare_text + spenser_text\n",
    "obs, obs_map = parse_observations(full_text)"
   ]
  },
  {
   "cell_type": "markdown",
   "metadata": {},
   "source": [
    "# Shakespeare x Spenser Sonnets"
   ]
  },
  {
   "cell_type": "code",
   "execution_count": 4,
   "metadata": {},
   "outputs": [
    {
     "name": "stdout",
     "output_type": "stream",
     "text": [
      "Iteration: 10\n",
      "Iteration: 20\n",
      "Iteration: 30\n",
      "Iteration: 40\n",
      "Iteration: 50\n",
      "Iteration: 60\n",
      "Iteration: 70\n",
      "Iteration: 80\n",
      "Iteration: 90\n",
      "Iteration: 100\n"
     ]
    }
   ],
   "source": [
    "hmm = unsupervised_HMM(obs, 16, 100)"
   ]
  },
  {
   "cell_type": "code",
   "execution_count": 7,
   "metadata": {},
   "outputs": [
    {
     "name": "stdout",
     "output_type": "stream",
     "text": [
      "And in not you of half keep stops\n",
      "Cause table paps have and curious love esteemed\n",
      "Days contrary in your heavenly left sang left\n",
      "In show me of sweet over by appears\n",
      "Can well mind your reign crystal her fall\n",
      "Thou from swift mistake this is persever if\n",
      "148 eyes on others' your well to brief\n",
      "Far greedy glance, blend, way glass, muse, for\n",
      "Is fairest might, whilest my middle when loath\n",
      "Doth can she work to your am and\n",
      "While red, me sweetness extern poison such eye,\n",
      "Thoughts, within, lines, very unto of by art\n",
      "Fair banks, thy my self that desire is\n",
      "Bold where whose may fled thy eye's not\n"
     ]
    }
   ],
   "source": [
    "for i in range(0, 14):    \n",
    "    print(sample_sentence(hmm, obs_map, n_words=8))"
   ]
  },
  {
   "cell_type": "code",
   "execution_count": 8,
   "metadata": {},
   "outputs": [
    {
     "name": "stdout",
     "output_type": "stream",
     "text": [
      "That to once to doth self bark blesses\n",
      "Embaseth, for world more this mine me compare\n",
      "Shows rigorous and those those these to beauty\n",
      "Why, dross owe goodly catch gardens noted element\n",
      "Dare that white, subjects to as myself blessed\n",
      "Her strained i in care live teeth of\n",
      "Horse doom rashly be cheeks bands, best, a\n",
      "And dishonor goddess the but nurse one this\n",
      "Due, my state that by not be worthy\n",
      "Most i love should thy face pledge then\n",
      "My song my is if crying called shall\n",
      "Through my prepared steal fields age you shouldst\n",
      "When she with evident bevel their to in\n",
      "Supposing that doth false about be, thy in\n"
     ]
    }
   ],
   "source": [
    "for i in range(0, 14):    \n",
    "    print(sample_sentence(hmm, obs_map, n_words=8))"
   ]
  },
  {
   "cell_type": "code",
   "execution_count": 11,
   "metadata": {},
   "outputs": [
    {
     "name": "stdout",
     "output_type": "stream",
     "text": [
      "Belay my seed amen, store for i and\n",
      "Not body, dwell, preyed love rights shall golden\n",
      "With a fire, sinful love's toil, catch light\n",
      "Bold, doting mark latch, sickness 'gainst filthy therewith\n",
      "Whose self-example will heaven thy love when by\n",
      "Beauty's argument nor whilst i will the left\n",
      "Ye part, thy in private they in the\n",
      "Not seem lack will me, i darkness and\n",
      "Pretty sphere outworn black love the thee doth\n",
      "Hardly is fire of i'll towers is having\n",
      "Leave you are nipples for my art forth,\n",
      "Traffic in therefore, blenches dare be tempting their\n",
      "Let my is, dost live, spend, not did\n",
      "With lovely, heaven's counterfeit, hearts, struck should forelock\n"
     ]
    }
   ],
   "source": [
    "for i in range(0, 14):    \n",
    "    print(sample_sentence(hmm, obs_map, n_words=8))"
   ]
  },
  {
   "cell_type": "markdown",
   "metadata": {},
   "source": [
    "# Rhyme"
   ]
  }
 ],
 "metadata": {
  "kernelspec": {
   "display_name": "Python 3",
   "language": "python",
   "name": "python3"
  },
  "language_info": {
   "codemirror_mode": {
    "name": "ipython",
    "version": 3
   },
   "file_extension": ".py",
   "mimetype": "text/x-python",
   "name": "python",
   "nbconvert_exporter": "python",
   "pygments_lexer": "ipython3",
   "version": "3.7.4"
  }
 },
 "nbformat": 4,
 "nbformat_minor": 4
}
