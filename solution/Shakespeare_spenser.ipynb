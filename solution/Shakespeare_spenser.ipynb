{
 "cells": [
  {
   "cell_type": "markdown",
   "metadata": {},
   "source": [
    "# Shakespeare x Spenser (HMM)"
   ]
  },
  {
   "cell_type": "code",
   "execution_count": 3,
   "metadata": {},
   "outputs": [],
   "source": [
    "import os\n",
    "import numpy as np\n",
    "from IPython.display import HTML\n",
    "import json\n",
    "from HMM import unsupervised_HMM\n",
    "from HMM_helper import (\n",
    "    text_to_wordcloud,\n",
    "    states_to_wordclouds,\n",
    "    parse_observations,\n",
    "    sample_sentence,\n",
    "    visualize_sparsities,\n",
    "    animate_emission\n",
    ")\n",
    "import re\n",
    "import sys\n",
    "import random"
   ]
  },
  {
   "cell_type": "markdown",
   "metadata": {},
   "source": [
    "## Data Preprocessing"
   ]
  },
  {
   "cell_type": "code",
   "execution_count": 105,
   "metadata": {},
   "outputs": [],
   "source": [
    "def split_by_sonnet_shakespeare(text): \n",
    "    \"\"\"\n",
    "    Split Shakespeare text by sonnet. \n",
    "    \"\"\"\n",
    "    return shakespeare_text.split(\"\\n\\n\\n\")\n",
    "\n",
    "def split_by_sonnet_spenser(text): \n",
    "    \"\"\"\n",
    "    Split Spenser text by sonnet. \n",
    "    \"\"\"\n",
    "    sonnets = text.split(\"\\n\\n\")\n",
    "    # Remove sonnet number\n",
    "    return [sonnets[i] for i in range(len(sonnets)) if i % 2 == 1]\n",
    "\n",
    "def clean_shakespeare(text): \n",
    "    sonnets = split_by_sonnet_shakespeare(text)\n",
    "    all_lines = []\n",
    "    for i in range(0, len(sonnets)): \n",
    "        lines = sonnets[i].split(\"\\n\")\n",
    "        for j in range(1, len(lines)):\n",
    "            all_lines.append(lines[j])\n",
    "    return '\\n'.join(all_lines)\n",
    "\n",
    "def clean_spenser(text): \n",
    "    sonnets = split_by_sonnet_spenser(text)\n",
    "    return '\\n'.join(sonnets)"
   ]
  },
  {
   "cell_type": "code",
   "execution_count": 94,
   "metadata": {},
   "outputs": [],
   "source": [
    "# Import text\n",
    "shakespeare_text = open(os.path.join(os.getcwd(), 'data_Shakespeare/shakespeare.txt')).read()\n",
    "\n",
    "spenser_text = open(os.path.join(os.getcwd(), 'data_Shakespeare/spenser.txt')).read()"
   ]
  },
  {
   "cell_type": "code",
   "execution_count": 95,
   "metadata": {},
   "outputs": [],
   "source": [
    "# Split into sonnets\n",
    "shakespeare_sonnets = split_by_sonnet_shakespeare(shakespeare_text)\n",
    "spenser_sonnets = split_by_sonnet_spenser(spenser_text)"
   ]
  },
  {
   "cell_type": "code",
   "execution_count": 106,
   "metadata": {},
   "outputs": [],
   "source": [
    "# Process text (Remove sonnet number)\n",
    "shakespeare_clean = clean_shakespeare(shakespeare_text)\n",
    "spenser_clean = clean_spenser(spenser_text)"
   ]
  },
  {
   "cell_type": "code",
   "execution_count": 97,
   "metadata": {},
   "outputs": [],
   "source": [
    "# Incorporate both Shakespeare and Spenser sonnets\n",
    "full_text = shakespeare_clean + spenser_clean\n",
    "obs, obs_map = parse_observations(full_text)"
   ]
  },
  {
   "cell_type": "markdown",
   "metadata": {},
   "source": [
    "# Shakespeare x Spenser Sonnets"
   ]
  },
  {
   "cell_type": "code",
   "execution_count": 6,
   "metadata": {},
   "outputs": [
    {
     "name": "stdout",
     "output_type": "stream",
     "text": [
      "Iteration: 10\n",
      "Iteration: 20\n",
      "Iteration: 30\n",
      "Iteration: 40\n",
      "Iteration: 50\n",
      "Iteration: 60\n",
      "Iteration: 70\n",
      "Iteration: 80\n",
      "Iteration: 90\n",
      "Iteration: 100\n"
     ]
    }
   ],
   "source": [
    "hmm = unsupervised_HMM(obs, 16, 100)"
   ]
  },
  {
   "cell_type": "code",
   "execution_count": 11,
   "metadata": {},
   "outputs": [
    {
     "name": "stdout",
     "output_type": "stream",
     "text": [
      "Belay my seed amen, store for i and\n",
      "Not body, dwell, preyed love rights shall golden\n",
      "With a fire, sinful love's toil, catch light\n",
      "Bold, doting mark latch, sickness 'gainst filthy therewith\n",
      "Whose self-example will heaven thy love when by\n",
      "Beauty's argument nor whilst i will the left\n",
      "Ye part, thy in private they in the\n",
      "Not seem lack will me, i darkness and\n",
      "Pretty sphere outworn black love the thee doth\n",
      "Hardly is fire of i'll towers is having\n",
      "Leave you are nipples for my art forth,\n",
      "Traffic in therefore, blenches dare be tempting their\n",
      "Let my is, dost live, spend, not did\n",
      "With lovely, heaven's counterfeit, hearts, struck should forelock\n"
     ]
    }
   ],
   "source": [
    "for i in range(0, 14):    \n",
    "    print(sample_sentence(hmm, obs_map, n_words=8))"
   ]
  },
  {
   "cell_type": "markdown",
   "metadata": {},
   "source": [
    "# Rhyme"
   ]
  },
  {
   "cell_type": "markdown",
   "metadata": {},
   "source": [
    "### Helper Functions (Generate Emissions)"
   ]
  },
  {
   "cell_type": "code",
   "execution_count": 17,
   "metadata": {},
   "outputs": [],
   "source": [
    "def generate_emission1(self, M, seed):\n",
    "        '''\n",
    "        Generates an emission of length M, assuming that the starting state\n",
    "        is chosen uniformly at random. \n",
    "\n",
    "        Arguments:\n",
    "            M:          Length of the emission to generate.\n",
    "\n",
    "        Returns:\n",
    "            emission:   The randomly generated emission as a list.\n",
    "\n",
    "            states:     The randomly generated states as a list.\n",
    "        '''\n",
    "        \n",
    "        #O: The (i, j)^th element is the probability of\n",
    "        # emitting observation j given state i.\n",
    "        O = np.array(self.O)\n",
    "        emission = []\n",
    "        emission.append(seed)\n",
    "       \n",
    "        # generate first state given this emission \n",
    "        col_states = O[:, seed]\n",
    "       \n",
    "        # Choose the state having the highest probability of generating\n",
    "        # this emission. \n",
    "        \n",
    "        state = np.argmax(col_states)       \n",
    "        states = []\n",
    "        for t in range(M-1):\n",
    "            # Append state.\n",
    "            states.append(state)\n",
    "\n",
    "            # Sample next observation.\n",
    "            rand_var = random.uniform(0, 1)\n",
    "            next_obs = 0\n",
    "\n",
    "            while rand_var > 0:\n",
    "                rand_var -= self.O[state][next_obs]\n",
    "                next_obs += 1\n",
    "\n",
    "            next_obs -= 1\n",
    "            emission.insert(0, next_obs)\n",
    "\n",
    "            # Sample next state.\n",
    "            rand_var = random.uniform(0, 1)\n",
    "            next_state = 0\n",
    "\n",
    "            while rand_var > 0:\n",
    "                rand_var -= self.A[state][next_state]\n",
    "                next_state += 1\n",
    "\n",
    "            next_state -= 1\n",
    "            state = next_state\n",
    "\n",
    "        return emission, states\n",
    "    \n",
    "def obs_map_reverser1(obs_map):\n",
    "    obs_map_r = {}\n",
    "\n",
    "    for key in obs_map:\n",
    "        obs_map_r[obs_map[key]] = key\n",
    "\n",
    "    return obs_map_r\n",
    "\n",
    "def sample_sentence1(hmm, obs_map, seed, n_words=100):\n",
    "    # Get reverse map.\n",
    "    seed_idx = obs_map[seed]\n",
    "    obs_map_r = obs_map_reverser1(obs_map)\n",
    "\n",
    "    # obs_map is of the form key=word: val=identifier\n",
    "    # Pass the identifier \n",
    "\n",
    "    \n",
    "    # Sample and convert sentence.\n",
    "    emission, states = generate_emission1(hmm, n_words, seed_idx)\n",
    "    sentence = [obs_map_r[i] for i in emission]\n",
    "\n",
    "    return ' '.join(sentence).capitalize()\n",
    "\n",
    "def parse_observations_reverse(text):\n",
    "    # Convert text to dataset.\n",
    "    lines = [line.split() for line in text.split('\\n') if line.split()]\n",
    "\n",
    "    obs_counter = 0\n",
    "    obs = []\n",
    "    obs_map = {}\n",
    "\n",
    "    for line in reversed(lines):\n",
    "        obs_elem = []\n",
    "        \n",
    "        for word in reversed(line):\n",
    "            word = re.sub(r'[^\\w\\-\\']', '', word).lower() \n",
    "            #word = re.sub(r'[^\\w]', '', word).lower()\n",
    "            if word not in obs_map:\n",
    "                # Add unique words to the observations map.\n",
    "                obs_map[word] = obs_counter\n",
    "                obs_counter += 1\n",
    "            \n",
    "            # Add the encoded word.\n",
    "            obs_elem.append(obs_map[word])\n",
    "        \n",
    "        # Add the encoded sequence.\n",
    "        obs.append(obs_elem)\n",
    "\n",
    "    return obs, obs_map"
   ]
  },
  {
   "cell_type": "markdown",
   "metadata": {},
   "source": [
    "### Helper Functions (Generating Rhyme Dictionary)"
   ]
  },
  {
   "cell_type": "code",
   "execution_count": 46,
   "metadata": {},
   "outputs": [],
   "source": [
    "def build_rhyme_pairs_shakespeare(sonnets): \n",
    "    \"\"\"\n",
    "    Build a dictionary of rhyme pairs and their frequency of \n",
    "    occurrence in Shakespeare's sonnets. \n",
    "    \"\"\"\n",
    "    rhyme_pairs = dict()\n",
    "    \n",
    "    for i in range(0, len(sonnets)): \n",
    "        sonnet_num = i + 1\n",
    "        # Excluce Sonnet 99, Sonnet 126, and Sonnet 145. \n",
    "        # Sonnet 99 has 15 lines, Sonnet 126 has 12 lines.\n",
    "        # All other sonnets follow the same rhyme scheme.\n",
    "        if sonnet_num == 99 or sonnet_num == 126: \n",
    "            \n",
    "            # Sonnet 99 has 15 lines of rhyme scheme ababa cdcd efef gg. \n",
    "            # We will throw out the rhyme triple a. \n",
    "            if sonnet_num == 99: \n",
    "                lines = sonnets[i].split(\"\\n\")\n",
    "                end_words = [' ']\n",
    "                \n",
    "                for j in range(1, 16): \n",
    "                    words = lines[j].split(' ')\n",
    "                    last_word = words[-1].strip()\n",
    "                    last_word = re.sub(r'[^\\w\\-\\']', '', last_word).lower()\n",
    "                    end_words.append(last_word)\n",
    "                \n",
    "                # Create pairs of rhyming words. \n",
    "                rhyme1 = (end_words[2], end_words[4])\n",
    "                rhyme2 = (end_words[6], end_words[8])\n",
    "                rhyme3 = (end_words[7], end_words[9])\n",
    "                rhyme4 = (end_words[10], end_words[12])\n",
    "                rhyme5 = (end_words[11], end_words[13])\n",
    "                rhyme6 = (end_words[14], end_words[15])\n",
    "                \n",
    "                rhymes = [rhyme1, rhyme2, rhyme3, rhyme4, rhyme5, rhyme6]\n",
    "                \n",
    "                # Add rhyming pairs to dictionary and keep in track of their \n",
    "                # frequency of occurrence. \n",
    "                for pair in rhymes: \n",
    "                    if pair in rhyme_pairs: \n",
    "                        rhyme_pairs[pair] += 1\n",
    "                    else: \n",
    "                        rhyme_pairs[pair] = 1\n",
    "            \n",
    "            # Sonnet 126 has 12 lines of rhyme scheme aa bb cc dd ee ff. \n",
    "            if sonnet_num == 126: \n",
    "                lines = sonnets[i].split(\"\\n\")\n",
    "                end_words = [' ']\n",
    "                for j in range(1, 13): \n",
    "                    words = lines[j].split(' ')\n",
    "                    last_word = words[-1].strip()\n",
    "                    last_word = re.sub(r'[^\\w\\-\\']', '', last_word).lower()\n",
    "                    end_words.append(last_word)\n",
    "                # Create pairs of rhyming words. \n",
    "                rhyme1 = (end_words[1], end_words[2])\n",
    "                rhyme2 = (end_words[3], end_words[4])\n",
    "                rhyme3 = (end_words[5], end_words[6])\n",
    "                rhyme4 = (end_words[7], end_words[8])\n",
    "                rhyme5 = (end_words[9], end_words[10])\n",
    "                rhyme6 = (end_words[11], end_words[12])\n",
    "                \n",
    "                rhymes = [rhyme1, rhyme2, rhyme3, rhyme4, rhyme5, rhyme6]\n",
    "                \n",
    "                # Add rhyming pairs to dictionary and keep in track of their \n",
    "                # frequency of occurrence. \n",
    "                for pair in rhymes: \n",
    "                    if pair in rhyme_pairs: \n",
    "                        rhyme_pairs[pair] += 1\n",
    "                    else: \n",
    "                        rhyme_pairs[pair] = 1\n",
    "                    \n",
    "        else: \n",
    "            # Append the last word of each line (remove punctuation)\n",
    "            lines = sonnets[i].split(\"\\n\")\n",
    "            end_words = [' ']\n",
    "            for j in range(1, 15): \n",
    "                words = lines[j].split(' ')\n",
    "                last_word = words[-1].strip()\n",
    "                last_word = re.sub(r'[^\\w\\-\\']', '', last_word).lower()\n",
    "                end_words.append(last_word)\n",
    "            \n",
    "            # Create pairs of rhyming words. Shakespeare's sonnets has the \n",
    "            # following rhyming structure per line: abab, cdcd, efef, gg. \n",
    "            rhyme1 = (end_words[1], end_words[3])\n",
    "            rhyme2 = (end_words[2], end_words[4])\n",
    "            rhyme3 = (end_words[5], end_words[7])\n",
    "            rhyme4 = (end_words[6], end_words[8])\n",
    "            rhyme5 = (end_words[9], end_words[11])\n",
    "            rhyme6 = (end_words[10], end_words[12])\n",
    "            rhyme7 = (end_words[13], end_words[14])\n",
    "            \n",
    "            rhymes = [rhyme1, rhyme2, rhyme3, rhyme4, rhyme5, rhyme6, rhyme7]\n",
    "            \n",
    "            # Add rhyming pairs to dictionary and keep in track of their \n",
    "            # frequency of occurrence. \n",
    "            for pair in rhymes: \n",
    "                if pair in rhyme_pairs: \n",
    "                    rhyme_pairs[pair] += 1\n",
    "                else: \n",
    "                    rhyme_pairs[pair] = 1\n",
    "                    \n",
    "    return rhyme_pairs\n",
    "\n",
    "def build_rhyme_pairs_spenser(sonnets): \n",
    "    \"\"\"\n",
    "    Build a dictionary of rhyme pairs and their frequency of \n",
    "    occurrence in Spenser's sonnets. \n",
    "    \"\"\"\n",
    "    # Spenser sonnets have the following rhyme scehme: abab bcbc cdcd ee. \n",
    "    # We keep rhyme pairs a, d, e separate from b, c. \n",
    "    # https://sites.udel.edu/britlitwiki/amoretti/\n",
    "    \n",
    "    rhyme_pairs = dict()\n",
    "    rhyme_quads = dict()\n",
    "    for i in range(0, len(sonnets)): \n",
    "        lines = sonnets[i].split(\"\\n\")\n",
    "        end_words = [' ']\n",
    "        # Ignore irregular Spenser sonnets\n",
    "        if len(lines) != 14: \n",
    "            pass\n",
    "        else: \n",
    "            for j in range(0, 14): \n",
    "                line = lines[j].strip()\n",
    "                words = line.split(' ')\n",
    "                last_word = words[-1].strip()\n",
    "                last_word = re.sub(r'[^\\w\\-\\']', '', last_word).lower()\n",
    "                end_words.append(last_word)\n",
    "            # Create rhyming words dictionary\n",
    "            rhyme1 = (end_words[1], end_words[3])\n",
    "            rhyme2 = (end_words[2], end_words[4], end_words[5], end_words[7])\n",
    "            rhyme3 = (end_words[6], end_words[8], end_words[9], end_words[11])\n",
    "            rhyme4 = (end_words[10], end_words[12])\n",
    "            rhyme5 = (end_words[13], end_words[14])\n",
    "            \n",
    "            rhymes1 = [rhyme1, rhyme4, rhyme5]\n",
    "            rhymes2 = [rhyme2, rhyme3]\n",
    "            \n",
    "            # Add rhyming pairs to dictionary and keep in track of their \n",
    "            # frequency of occurrence. \n",
    "            for pair in rhymes1: \n",
    "                if pair in rhyme_pairs: \n",
    "                    rhyme_pairs[pair] += 1\n",
    "                else: \n",
    "                    rhyme_pairs[pair] = 1\n",
    "                    \n",
    "            for pair in rhymes2: \n",
    "                if pair in rhyme_quads: \n",
    "                    rhyme_quads[pair] += 1\n",
    "                else: \n",
    "                    rhyme_quads[pair] = 1\n",
    "                    \n",
    "    return rhyme_pairs, rhyme_quads"
   ]
  },
  {
   "cell_type": "markdown",
   "metadata": {},
   "source": [
    "### Helper Functions (Writing Poems with Rhymes)"
   ]
  },
  {
   "cell_type": "code",
   "execution_count": 31,
   "metadata": {},
   "outputs": [],
   "source": [
    "def write_poem_shakespeare_rhyme(hmm, obs_map, rhyme_pairs, n_words): \n",
    "    \"\"\"\n",
    "    Generate a poem following the rhyme scheme of a typical Shakespeare\n",
    "    Sonnet (abab cdcd efef gg)\n",
    "    \"\"\"\n",
    "    poem = ''\n",
    "    (a1, a2) = rhyme_pairs[0]\n",
    "    (b1, b2) = rhyme_pairs[1]\n",
    "    (c1, c2) = rhyme_pairs[2]\n",
    "    (d1, d2) = rhyme_pairs[3]\n",
    "    (e1, e2) = rhyme_pairs[4]\n",
    "    (f1, f2) = rhyme_pairs[5]\n",
    "    (g1, g2) = rhyme_pairs[6]\n",
    "    \n",
    "    poem += sample_sentence1(hmm, obs_map, a1, n_words=10) + '\\n'\n",
    "    poem += sample_sentence1(hmm, obs_map, b1, n_words=10) + '\\n'\n",
    "    poem += sample_sentence1(hmm, obs_map, a2, n_words=10) + '\\n'\n",
    "    poem += sample_sentence1(hmm, obs_map, b2, n_words=10) + '\\n'\n",
    "    poem += sample_sentence1(hmm, obs_map, c1, n_words=10) + '\\n'\n",
    "    poem += sample_sentence1(hmm, obs_map, d1, n_words=10) + '\\n'\n",
    "    poem += sample_sentence1(hmm, obs_map, c2, n_words=10) + '\\n'\n",
    "    poem += sample_sentence1(hmm, obs_map, d2, n_words=10) + '\\n'\n",
    "    poem += sample_sentence1(hmm, obs_map, e1, n_words=10) + '\\n'\n",
    "    poem += sample_sentence1(hmm, obs_map, f1, n_words=10) + '\\n'\n",
    "    poem += sample_sentence1(hmm, obs_map, e2, n_words=10) + '\\n'\n",
    "    poem += sample_sentence1(hmm, obs_map, f2, n_words=10) + '\\n'\n",
    "    poem += sample_sentence1(hmm, obs_map, g1, n_words=10) + '\\n'\n",
    "    poem += sample_sentence1(hmm, obs_map, g2, n_words=10)\n",
    "    \n",
    "    return poem\n",
    "\n",
    "def write_poem_spenser_rhyme(hmm, obs_map, rhyme_pairs, rhyme_quads, n_words): \n",
    "    \"\"\"\n",
    "    Generate a poem following the rhyme scheme of a typical Shakespeare\n",
    "    Sonnet (abab bcbc cdcd ee)\n",
    "    \"\"\"\n",
    "    poem = ''\n",
    "    (a1, a2) = rhyme_pairs[0]\n",
    "    (b1, b2, b3, b4) = rhyme_quads[0]\n",
    "    (c1, c2, c3, c4) = rhyme_quads[1]\n",
    "    (d1, d2) = rhyme_pairs[1]\n",
    "    (e1, e2) = rhyme_pairs[2]\n",
    "    \n",
    "    poem += sample_sentence1(hmm, obs_map, a1, n_words=10) + '\\n'\n",
    "    poem += sample_sentence1(hmm, obs_map, b1, n_words=10) + '\\n'\n",
    "    poem += sample_sentence1(hmm, obs_map, a2, n_words=10) + '\\n'\n",
    "    poem += sample_sentence1(hmm, obs_map, b2, n_words=10) + '\\n'\n",
    "    poem += sample_sentence1(hmm, obs_map, b3, n_words=10) + '\\n'\n",
    "    poem += sample_sentence1(hmm, obs_map, c1, n_words=10) + '\\n'\n",
    "    poem += sample_sentence1(hmm, obs_map, b4, n_words=10) + '\\n'\n",
    "    poem += sample_sentence1(hmm, obs_map, c2, n_words=10) + '\\n'\n",
    "    poem += sample_sentence1(hmm, obs_map, c3, n_words=10) + '\\n'\n",
    "    poem += sample_sentence1(hmm, obs_map, d1, n_words=10) + '\\n'\n",
    "    poem += sample_sentence1(hmm, obs_map, c4, n_words=10) + '\\n'\n",
    "    poem += sample_sentence1(hmm, obs_map, d2, n_words=10) + '\\n'\n",
    "    poem += sample_sentence1(hmm, obs_map, e1, n_words=10) + '\\n'\n",
    "    poem += sample_sentence1(hmm, obs_map, e2, n_words=10)\n",
    "    \n",
    "    return poem"
   ]
  },
  {
   "cell_type": "markdown",
   "metadata": {},
   "source": [
    "### Create Rhyme Dictionaries (Shakespeare and Spenser)"
   ]
  },
  {
   "cell_type": "code",
   "execution_count": 48,
   "metadata": {},
   "outputs": [],
   "source": [
    "shakespeare_rhyme_pairs = build_rhyme_pairs_shakespeare(shakespeare_sonnets)\n",
    "spenser_rhyme_pairs, spenser_rhyme_quads = build_rhyme_pairs_spenser(spenser_sonnets)"
   ]
  },
  {
   "cell_type": "markdown",
   "metadata": {},
   "source": [
    "### Generating Poems (Shakespeare Text only, with Shakespeare Rhyme)"
   ]
  },
  {
   "cell_type": "code",
   "execution_count": 19,
   "metadata": {},
   "outputs": [
    {
     "name": "stdout",
     "output_type": "stream",
     "text": [
      "Iteration: 10\n",
      "Iteration: 20\n",
      "Iteration: 30\n",
      "Iteration: 40\n",
      "Iteration: 50\n",
      "Iteration: 60\n",
      "Iteration: 70\n",
      "Iteration: 80\n",
      "Iteration: 90\n",
      "Iteration: 100\n"
     ]
    }
   ],
   "source": [
    "obs_reversed_shakespeare, obs_map_reversed_shakespeare = parse_observations_reverse(shakespeare_clean)\n",
    "hmm3 = unsupervised_HMM(obs_reversed_shakespeare, 16, 100)"
   ]
  },
  {
   "cell_type": "code",
   "execution_count": 61,
   "metadata": {},
   "outputs": [
    {
     "name": "stdout",
     "output_type": "stream",
     "text": [
      "These edge to one large plague of thee dote receivest\n",
      "Of your which i not level thou gives worst sorrow\n",
      "Form of is summer from being hours commits end deceivest\n",
      "Supposed on to self adjunct and unwooed this day morrow\n",
      "Me at then as wouldst such the to expense legacy\n",
      "Within every and checked tongue mind days on argument thee\n",
      "The and but thee as add the moan wide free\n",
      "Me up to in the grounded unused world date melancholy\n",
      "Was cannot my with such and and strive what's unprovident\n",
      "Am moving dare hallowed a do doting my horse derive\n",
      "The we and for rocks a my should me evident\n",
      "To true doth tender like lambs wretch were to-day thrive\n",
      "The of year it the and mine celestial that shame\n",
      "Were yet engraft this bends wit all the thought name\n"
     ]
    }
   ],
   "source": [
    "shakespeare_rhyme = random.sample(list(shakespeare_rhyme_pairs.keys()), 7)\n",
    "print(write_poem_shakespeare_rhyme(hmm3, obs_map_reversed_shakespeare, shakespeare_rhyme, 8))"
   ]
  },
  {
   "cell_type": "markdown",
   "metadata": {},
   "source": [
    "### Generating Poems (Shakespeare + Spenser Text, with Shakespeare Rhyme)"
   ]
  },
  {
   "cell_type": "code",
   "execution_count": 18,
   "metadata": {},
   "outputs": [
    {
     "name": "stdout",
     "output_type": "stream",
     "text": [
      "Iteration: 10\n",
      "Iteration: 20\n",
      "Iteration: 30\n",
      "Iteration: 40\n",
      "Iteration: 50\n",
      "Iteration: 60\n",
      "Iteration: 70\n",
      "Iteration: 80\n",
      "Iteration: 90\n",
      "Iteration: 100\n"
     ]
    }
   ],
   "source": [
    "obs_reversed_full, obs_map_reversed_full = parse_observations_reverse(full_text)\n",
    "hmm2 = unsupervised_HMM(obs_reversed_full, 16, 100)"
   ]
  },
  {
   "cell_type": "code",
   "execution_count": 66,
   "metadata": {},
   "outputs": [
    {
     "name": "stdout",
     "output_type": "stream",
     "text": [
      "Seen beat that my wilt and thou your beauty sin\n",
      "But thee three-score of my sweet eye-glances no faults love\n",
      "Light like friends my sweet bred that poets humble begin\n",
      "Last appease thankless persever of their mind doth goodly move\n",
      "Is my world's and with oft they harvest direct idolatry\n",
      "To milder what never to pleasant heart even live here\n",
      "Thence it is times and both with tell added be\n",
      "Breast which self-love of needs others' my beauty happy uprear\n",
      "Night they a mourning but whose heavy be of hid\n",
      "Then too mind's worst to more gifts by none mark\n",
      "I the lowly and night but virtuous in apply forbid\n",
      "If art still diving when and fingers maid entire bark\n",
      "Rind of your son will that subject an that thee\n",
      "And you and brought did my my the sovereign be\n"
     ]
    }
   ],
   "source": [
    "shakespeare_rhyme = random.sample(list(shakespeare_rhyme_pairs.keys()), 7)\n",
    "print(write_poem_shakespeare_rhyme(hmm2, obs_map_reversed_full, shakespeare_rhyme, 8))"
   ]
  },
  {
   "cell_type": "markdown",
   "metadata": {},
   "source": [
    "### Generating Poems (Shakespeare + Spenser Text, with Spenser Rhyme)"
   ]
  },
  {
   "cell_type": "code",
   "execution_count": 82,
   "metadata": {},
   "outputs": [
    {
     "name": "stdout",
     "output_type": "stream",
     "text": [
      "Mourn which reckoning fairest yet tells grecian yet copy behold\n",
      "Harder unless thus compare repair bring do where youth made\n",
      "The more but may it knew a and free mould\n",
      "Ye clouds blessing ill as more bail in spill fade\n",
      "Any breaches unless me slight short not to bands trade\n",
      "Guess terms my breast when construe me will wretch arrive\n",
      "That to she and then shall prove the'accomplishment of assayed\n",
      "Love to conceive can not find do can well alive\n",
      "O means if you is by be praises with achieve\n",
      "Frantic-mad for still returned have gentle of from imitated beguile\n",
      "Stone and zealous both the by how all him deprive\n",
      "Virtue is silence in her applying in resty art spoil\n",
      "When from better may least me his my displayed reposeth\n",
      "Love doth whether too have display to the assay supposeth\n"
     ]
    }
   ],
   "source": [
    "spenser_rhyme1 = random.sample(list(spenser_rhyme_pairs.keys()), 3)\n",
    "spenser_rhyme2 = random.sample(list(spenser_rhyme_quads.keys()), 2)\n",
    "print(write_poem_spenser_rhyme(hmm2, obs_map_reversed_full, spenser_rhyme1, spenser_rhyme2, 8))"
   ]
  }
 ],
 "metadata": {
  "kernelspec": {
   "display_name": "Python 3",
   "language": "python",
   "name": "python3"
  },
  "language_info": {
   "codemirror_mode": {
    "name": "ipython",
    "version": 3
   },
   "file_extension": ".py",
   "mimetype": "text/x-python",
   "name": "python",
   "nbconvert_exporter": "python",
   "pygments_lexer": "ipython3",
   "version": "3.7.4"
  }
 },
 "nbformat": 4,
 "nbformat_minor": 4
}
