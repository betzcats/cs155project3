{
 "cells": [
  {
   "cell_type": "markdown",
   "metadata": {},
   "source": [
    "## RNN Model"
   ]
  },
  {
   "cell_type": "code",
   "execution_count": 1,
   "metadata": {},
   "outputs": [],
   "source": [
    "import os\n",
    "import numpy as np\n",
    "from IPython.display import HTML\n",
    "import json\n",
    "from HMM import unsupervised_HMM\n",
    "from HMM_helper import (\n",
    "    text_to_wordcloud,\n",
    "    states_to_wordclouds,\n",
    "    parse_observations,\n",
    "    sample_sentence,\n",
    "    visualize_sparsities,\n",
    "    animate_emission\n",
    ")\n",
    "import re\n",
    "import string"
   ]
  },
  {
   "cell_type": "code",
   "execution_count": 2,
   "metadata": {},
   "outputs": [
    {
     "name": "stderr",
     "output_type": "stream",
     "text": [
      "Using TensorFlow backend.\n"
     ]
    }
   ],
   "source": [
    "from keras.utils import to_categorical\n",
    "from keras.models import Sequential\n",
    "from keras.layers import Dense\n",
    "from keras.layers import LSTM\n",
    "from keras.preprocessing.sequence import pad_sequences"
   ]
  },
  {
   "cell_type": "code",
   "execution_count": 3,
   "metadata": {},
   "outputs": [],
   "source": [
    "text = open(os.path.join(os.getcwd(), 'data_Shakespeare/shakespeare.txt')).read()"
   ]
  },
  {
   "cell_type": "markdown",
   "metadata": {},
   "source": [
    "#### Data Preprocessing"
   ]
  },
  {
   "cell_type": "code",
   "execution_count": 4,
   "metadata": {},
   "outputs": [],
   "source": [
    "# Remove digits, blank lines, and extra spaces. \n",
    "lines = text.splitlines()\n",
    "all_lines = []\n",
    "\n",
    "for line in lines: \n",
    "    if line.strip().isdigit() == False and len(line) > 1: \n",
    "        clean_line = line.strip().lower()\n",
    "        clean_line = re.sub('[(){}<>]', '', clean_line)\n",
    "        all_lines.append(clean_line + '\\n')"
   ]
  },
  {
   "cell_type": "code",
   "execution_count": 5,
   "metadata": {},
   "outputs": [],
   "source": [
    "# Save clean poetry lines into a new file\n",
    "with open('ShakespeareLines.txt', 'w') as f:\n",
    "    for line in all_lines:\n",
    "        f.write(line)\n",
    "\n",
    "f.close()"
   ]
  },
  {
   "cell_type": "code",
   "execution_count": 6,
   "metadata": {},
   "outputs": [],
   "source": [
    "# Import raw Shakespeare lines\n",
    "raw_text = open(os.path.join(os.getcwd(), 'ShakespeareLines.txt')).read()"
   ]
  },
  {
   "cell_type": "code",
   "execution_count": 7,
   "metadata": {},
   "outputs": [],
   "source": [
    "# Generate all possible sequences of 40 characters\n",
    "seq_len = 40\n",
    "all_sequences = []\n",
    "raw_sequences = ''\n",
    "for i in range(seq_len, len(raw_text)):\n",
    "    seq = raw_text[i-seq_len:i+1]\n",
    "    all_sequences.append(seq)\n",
    "    raw_sequences += seq + '\\n'"
   ]
  },
  {
   "cell_type": "code",
   "execution_count": 8,
   "metadata": {},
   "outputs": [],
   "source": [
    "# All unique characters\n",
    "chars = sorted(list(set(raw_sequences)))"
   ]
  },
  {
   "cell_type": "code",
   "execution_count": 9,
   "metadata": {},
   "outputs": [],
   "source": [
    "# One hot-encoded dictionaries mapping from char to indice and from indice to char\n",
    "char_indices = dict((c, i) for i, c in enumerate(chars))\n",
    "indices_char = dict((i, c) for i, c in enumerate(chars))"
   ]
  },
  {
   "cell_type": "code",
   "execution_count": 10,
   "metadata": {},
   "outputs": [],
   "source": [
    "# Encode the sequences with our hot-encoded dictionaries\n",
    "encoded_seq = []\n",
    "for seq in all_sequences:\n",
    "    encoded = [char_indices[char] for char in seq]\n",
    "    encoded_seq.append(encoded)"
   ]
  },
  {
   "cell_type": "code",
   "execution_count": 11,
   "metadata": {},
   "outputs": [],
   "source": [
    "vocab_size = len(char_indices)"
   ]
  },
  {
   "cell_type": "code",
   "execution_count": 12,
   "metadata": {},
   "outputs": [],
   "source": [
    "# Split encoded sequence into X and y for training the model\n",
    "encoded_seq = np.asarray(encoded_seq)\n",
    "X, y = encoded_seq[:,:-1], encoded_seq[:,-1]\n",
    "encoded_seq = [to_categorical(x, num_classes=vocab_size) for x in X]\n",
    "X = np.asarray(encoded_seq)\n",
    "y = to_categorical(y, num_classes=vocab_size)"
   ]
  },
  {
   "cell_type": "markdown",
   "metadata": {},
   "source": [
    "### Model Training"
   ]
  },
  {
   "cell_type": "code",
   "execution_count": 40,
   "metadata": {},
   "outputs": [],
   "source": [
    "# Build model\n",
    "model = Sequential()\n",
    "model.add(LSTM(128, return_sequences=True, input_shape=(seq_len, vocab_size)))\n",
    "model.add(LSTM(64))\n",
    "model.add(Dense(vocab_size, activation='softmax'))"
   ]
  },
  {
   "cell_type": "code",
   "execution_count": 41,
   "metadata": {},
   "outputs": [],
   "source": [
    "# Compile model\n",
    "model.compile(loss='categorical_crossentropy', optimizer='adam', metrics=['accuracy'])"
   ]
  },
  {
   "cell_type": "code",
   "execution_count": 42,
   "metadata": {},
   "outputs": [
    {
     "name": "stdout",
     "output_type": "stream",
     "text": [
      "Epoch 1/80\n",
      " - 207s - loss: 2.4079 - accuracy: 0.3085\n",
      "Epoch 2/80\n",
      " - 199s - loss: 1.9829 - accuracy: 0.4104\n",
      "Epoch 3/80\n",
      " - 201s - loss: 1.8476 - accuracy: 0.4451\n",
      "Epoch 4/80\n",
      " - 200s - loss: 1.7406 - accuracy: 0.4741\n",
      "Epoch 5/80\n",
      " - 175s - loss: 1.6680 - accuracy: 0.4940\n",
      "Epoch 6/80\n",
      " - 180s - loss: 1.6112 - accuracy: 0.5078\n",
      "Epoch 7/80\n",
      " - 168s - loss: 1.5653 - accuracy: 0.5193\n",
      "Epoch 8/80\n",
      " - 169s - loss: 1.5233 - accuracy: 0.5313\n",
      "Epoch 9/80\n",
      " - 179s - loss: 1.4862 - accuracy: 0.5410\n",
      "Epoch 10/80\n",
      " - 187s - loss: 1.7284 - accuracy: 0.4800\n",
      "Epoch 11/80\n",
      " - 187s - loss: 1.7342 - accuracy: 0.4753\n",
      "Epoch 12/80\n",
      " - 200s - loss: 1.5178 - accuracy: 0.5334\n",
      "Epoch 13/80\n",
      " - 199s - loss: 1.4748 - accuracy: 0.5455\n",
      "Epoch 14/80\n",
      " - 192s - loss: 1.4475 - accuracy: 0.5514\n",
      "Epoch 15/80\n",
      " - 208s - loss: 1.4247 - accuracy: 0.5571\n",
      "Epoch 16/80\n",
      " - 211s - loss: 1.4000 - accuracy: 0.5641\n",
      "Epoch 17/80\n",
      " - 201s - loss: 1.3886 - accuracy: 0.5672\n",
      "Epoch 18/80\n",
      " - 177s - loss: 1.3580 - accuracy: 0.5749\n",
      "Epoch 19/80\n",
      " - 202s - loss: 1.3284 - accuracy: 0.5828\n",
      "Epoch 20/80\n",
      " - 180s - loss: 1.3207 - accuracy: 0.5860\n",
      "Epoch 21/80\n",
      " - 160s - loss: 1.3036 - accuracy: 0.5909\n",
      "Epoch 22/80\n",
      " - 163s - loss: 1.2735 - accuracy: 0.5992\n",
      "Epoch 23/80\n",
      " - 191s - loss: 1.2427 - accuracy: 0.6083\n",
      "Epoch 24/80\n",
      " - 187s - loss: 1.2170 - accuracy: 0.6158\n",
      "Epoch 25/80\n",
      " - 206s - loss: 1.1979 - accuracy: 0.6206\n",
      "Epoch 26/80\n",
      " - 234s - loss: 1.1756 - accuracy: 0.6267\n",
      "Epoch 27/80\n",
      " - 179s - loss: 1.1573 - accuracy: 0.6329\n",
      "Epoch 28/80\n",
      " - 203s - loss: 1.1376 - accuracy: 0.6395\n",
      "Epoch 29/80\n",
      " - 194s - loss: 1.1178 - accuracy: 0.6452\n",
      "Epoch 30/80\n",
      " - 224s - loss: 1.1198 - accuracy: 0.6446\n",
      "Epoch 31/80\n",
      " - 199s - loss: 1.1353 - accuracy: 0.6417\n",
      "Epoch 32/80\n",
      " - 189s - loss: 1.0808 - accuracy: 0.6569\n",
      "Epoch 33/80\n",
      " - 204s - loss: 1.0455 - accuracy: 0.6665\n",
      "Epoch 34/80\n",
      " - 189s - loss: 1.0599 - accuracy: 0.6626\n",
      "Epoch 35/80\n",
      " - 195s - loss: 1.0458 - accuracy: 0.6665\n",
      "Epoch 36/80\n",
      " - 179s - loss: 1.0491 - accuracy: 0.6654\n",
      "Epoch 37/80\n",
      " - 194s - loss: 1.0193 - accuracy: 0.6738\n",
      "Epoch 38/80\n",
      " - 204s - loss: 0.9637 - accuracy: 0.6928\n",
      "Epoch 39/80\n",
      " - 200s - loss: 0.9601 - accuracy: 0.6927\n",
      "Epoch 40/80\n",
      " - 196s - loss: 0.9676 - accuracy: 0.6901\n",
      "Epoch 41/80\n",
      " - 186s - loss: 0.9600 - accuracy: 0.6912\n",
      "Epoch 42/80\n",
      " - 213s - loss: 0.9501 - accuracy: 0.6951\n",
      "Epoch 43/80\n",
      " - 200s - loss: 0.9363 - accuracy: 0.6993\n",
      "Epoch 44/80\n",
      " - 192s - loss: 0.9243 - accuracy: 0.7040\n",
      "Epoch 45/80\n",
      " - 186s - loss: 0.9109 - accuracy: 0.7074\n",
      "Epoch 46/80\n",
      " - 217s - loss: 0.8991 - accuracy: 0.7118\n",
      "Epoch 47/80\n",
      " - 231s - loss: 0.8870 - accuracy: 0.7141\n",
      "Epoch 48/80\n",
      " - 187s - loss: 0.8766 - accuracy: 0.7170\n",
      "Epoch 49/80\n",
      " - 184s - loss: 0.8637 - accuracy: 0.7233\n",
      "Epoch 50/80\n",
      " - 1728s - loss: 0.8581 - accuracy: 0.7247\n",
      "Epoch 51/80\n",
      " - 821s - loss: 0.8449 - accuracy: 0.7270\n",
      "Epoch 52/80\n",
      " - 157s - loss: 0.8356 - accuracy: 0.7299\n",
      "Epoch 53/80\n",
      " - 191s - loss: 0.8276 - accuracy: 0.7328\n",
      "Epoch 54/80\n",
      " - 186s - loss: 0.8209 - accuracy: 0.7345\n",
      "Epoch 55/80\n",
      " - 200s - loss: 0.8084 - accuracy: 0.7397\n",
      "Epoch 56/80\n",
      " - 198s - loss: 0.8009 - accuracy: 0.7425\n",
      "Epoch 57/80\n",
      " - 200s - loss: 0.7958 - accuracy: 0.7437\n",
      "Epoch 58/80\n",
      " - 182s - loss: 0.7874 - accuracy: 0.7461\n",
      "Epoch 59/80\n",
      " - 184s - loss: 0.7826 - accuracy: 0.7480\n",
      "Epoch 60/80\n",
      " - 196s - loss: 0.7707 - accuracy: 0.7521\n",
      "Epoch 61/80\n",
      " - 174s - loss: 0.7632 - accuracy: 0.7545\n",
      "Epoch 62/80\n",
      " - 184s - loss: 0.7729 - accuracy: 0.7499\n",
      "Epoch 63/80\n",
      " - 167s - loss: 0.7354 - accuracy: 0.7630\n",
      "Epoch 64/80\n",
      " - 193s - loss: 0.7449 - accuracy: 0.7593\n",
      "Epoch 65/80\n",
      " - 190s - loss: 0.7438 - accuracy: 0.7592\n",
      "Epoch 66/80\n",
      " - 176s - loss: 0.7319 - accuracy: 0.7633\n",
      "Epoch 67/80\n",
      " - 171s - loss: 0.7254 - accuracy: 0.7655\n",
      "Epoch 68/80\n",
      " - 191s - loss: 0.7272 - accuracy: 0.7641\n",
      "Epoch 69/80\n",
      " - 165s - loss: 0.7144 - accuracy: 0.7686\n",
      "Epoch 70/80\n",
      " - 178s - loss: 0.7129 - accuracy: 0.7692\n",
      "Epoch 71/80\n",
      " - 184s - loss: 0.7076 - accuracy: 0.7704\n",
      "Epoch 72/80\n",
      " - 180s - loss: 0.7014 - accuracy: 0.7724\n",
      "Epoch 73/80\n",
      " - 189s - loss: 0.6995 - accuracy: 0.7726\n",
      "Epoch 74/80\n",
      " - 173s - loss: 0.6922 - accuracy: 0.7745\n",
      "Epoch 75/80\n",
      " - 177s - loss: 0.6881 - accuracy: 0.7774\n",
      "Epoch 76/80\n",
      " - 170s - loss: 0.6816 - accuracy: 0.7777\n",
      "Epoch 77/80\n",
      " - 186s - loss: 0.6782 - accuracy: 0.7786\n",
      "Epoch 78/80\n",
      " - 168s - loss: 0.6743 - accuracy: 0.7801\n",
      "Epoch 79/80\n",
      " - 154s - loss: 0.6714 - accuracy: 0.7822\n",
      "Epoch 80/80\n",
      " - 159s - loss: 0.6689 - accuracy: 0.7824\n"
     ]
    },
    {
     "data": {
      "text/plain": [
       "<keras.callbacks.callbacks.History at 0x165623f90>"
      ]
     },
     "execution_count": 42,
     "metadata": {},
     "output_type": "execute_result"
    }
   ],
   "source": [
    "# Fit model\n",
    "model.fit(X, y, epochs=80, verbose=2)"
   ]
  },
  {
   "cell_type": "code",
   "execution_count": 39,
   "metadata": {},
   "outputs": [],
   "source": [
    "model.save('model_dropout.h5')"
   ]
  },
  {
   "cell_type": "code",
   "execution_count": null,
   "metadata": {},
   "outputs": [],
   "source": []
  },
  {
   "cell_type": "markdown",
   "metadata": {},
   "source": [
    "### Generate poem"
   ]
  },
  {
   "cell_type": "code",
   "execution_count": 44,
   "metadata": {},
   "outputs": [],
   "source": [
    "# Temperature - https://github.com/keras-team/keras/blob/master/examples/lstm_text_generation.py\n",
    "def sample(preds, temperature):\n",
    "    # helper function to sample an index from a probability array\n",
    "    preds = np.asarray(preds).astype('float64')\n",
    "    preds = np.log(preds) / temperature\n",
    "    exp_preds = np.exp(preds)\n",
    "    preds = exp_preds / np.sum(exp_preds)\n",
    "    probas = np.random.multinomial(1, preds, 1)\n",
    "    return np.argmax(probas)"
   ]
  },
  {
   "cell_type": "code",
   "execution_count": 45,
   "metadata": {},
   "outputs": [],
   "source": [
    "# Generate poem from RNN model\n",
    "def generate_poem(seed_text, temp): \n",
    "    output = seed_text\n",
    "    # Keep in track of number of lines generated\n",
    "    lines = 1\n",
    "    for i in range(10000):\n",
    "        # Encode the current generated text\n",
    "        encoded = [char_indices[char] for char in output]\n",
    "        encoded = pad_sequences([encoded], maxlen=seq_len, truncating='pre')\n",
    "        encoded = to_categorical(encoded, num_classes=len(char_indices))\n",
    "        # Predict next character (using temperature)\n",
    "        pred = model.predict(encoded, verbose=0)[0]\n",
    "        next_index = sample(pred, temp)\n",
    "        next_char = indices_char[next_index]\n",
    "        output += next_char\n",
    "        if next_char == '\\n': \n",
    "            lines += 1\n",
    "        # Break once we get 14 lines\n",
    "        if lines == 14: \n",
    "            break\n",
    "    \n",
    "    # Handles final punctuation - make it a period if it is not \n",
    "    if output[-2] in string.punctuation: \n",
    "        if output[-2] != '.' or output[-2] != '!' or output[-2] != '?': \n",
    "            output = output[:-2] + '.'\n",
    "        else: \n",
    "            output = output[:-1]\n",
    "    else: \n",
    "        output = output[:-1] + '.'\n",
    "    \n",
    "    # Capitalize first letter of each line\n",
    "    final_output = '\\n'.join([line.capitalize() for line in output.splitlines()])\n",
    "\n",
    "    return final_output"
   ]
  },
  {
   "cell_type": "code",
   "execution_count": 56,
   "metadata": {},
   "outputs": [
    {
     "name": "stdout",
     "output_type": "stream",
     "text": [
      "Shall i compare thee to a summer's day?\n",
      "Thou must feeso eyesure doth shade my burt,\n",
      "And swrenks no dyet gens in their might\n",
      "To the infowing chesiclave i seen!\n",
      "From the than your love repoves to his skide?\n",
      "For hell as thou shalt un a lovinh hearts?\n",
      "For leth 'ounthing, thou she wint sughts dot, crussed,\n",
      "By all und in singlate joy an the but lie,\n",
      "Doshy what it me, like framore of good spite.\n",
      "If i nor again, or canter fladvoobessy rie,\n",
      "Scan rung in me checked 'tlo knlsge wiin,\n",
      "Which swift tears your love 'tis canequear.\n",
      "They to your fave like her id will wart seem,\n",
      "On love to groath after nor-are.\n"
     ]
    }
   ],
   "source": [
    "poem_1 = generate_poem(\"shall i compare thee to a summer's day?\\n\", 1.5)\n",
    "print(poem_1)"
   ]
  },
  {
   "cell_type": "code",
   "execution_count": 48,
   "metadata": {},
   "outputs": [
    {
     "name": "stdout",
     "output_type": "stream",
     "text": [
      "Shall i compare thee to a summer's day?\n",
      "Thou art all thy gives to her time?\n",
      "O no, thus in thee, and thred all tell puctlest ever,\n",
      "And so thee i fold as an eyes wes,\n",
      "Is in the breath, by art ornow, she is not,\n",
      "To with the parts of thee, which live you with gentle soun\n",
      "Doth heavened think on thine eye hath none:\n",
      "Then you hand in other the sweeted beauty's pains,\n",
      "And truly besiel fortuous, than theire age,\n",
      "Maker shall i then in thee gazed nor well,\n",
      "Than thou awakned in theich untaintay, are,\n",
      "My alont to second foundon was blactioned\n",
      "With canter even which now too my trust,\n",
      "And in a kind and i be the past that looks.\n"
     ]
    }
   ],
   "source": [
    "poem_2 = generate_poem(\"shall i compare thee to a summer's day?\\n\", 0.75)\n",
    "print(poem_2)"
   ]
  },
  {
   "cell_type": "code",
   "execution_count": 49,
   "metadata": {},
   "outputs": [
    {
     "name": "stdout",
     "output_type": "stream",
     "text": [
      "Shall i compare thee to a summer's day?\n",
      "Thou art all their sweep she mind is love.\n",
      "Now list i amain of thy love is subs,\n",
      "Then have i do i lose of sinsumented line,\n",
      "And both proidery? herefomen seat,\n",
      "Me to thee ale the time to summer's days.\n",
      "At the world to be wide my sweet so brow,\n",
      "To trifled it self decaye, age, that so write\n",
      "To your self to waste of things user-ling,\n",
      "For they ere to worserosed for the part,\n",
      "To leath, which is not so ill wretheres used,\n",
      "And sweet self thou stick thee offarche,\n",
      "Than thou shouldst be bott, a dud'st that breast\n",
      "That thine eyes my mind nates be kind, express.\n"
     ]
    }
   ],
   "source": [
    "poem_3 = generate_poem(\"shall i compare thee to a summer's day?\\n\", 0.25)\n",
    "print(poem_3)"
   ]
  },
  {
   "cell_type": "code",
   "execution_count": null,
   "metadata": {},
   "outputs": [],
   "source": []
  }
 ],
 "metadata": {
  "kernelspec": {
   "display_name": "Python 3",
   "language": "python",
   "name": "python3"
  },
  "language_info": {
   "codemirror_mode": {
    "name": "ipython",
    "version": 3
   },
   "file_extension": ".py",
   "mimetype": "text/x-python",
   "name": "python",
   "nbconvert_exporter": "python",
   "pygments_lexer": "ipython3",
   "version": "3.7.4"
  }
 },
 "nbformat": 4,
 "nbformat_minor": 4
}
