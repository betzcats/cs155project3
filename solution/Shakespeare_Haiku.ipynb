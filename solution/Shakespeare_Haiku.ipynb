{
 "cells": [
  {
   "cell_type": "markdown",
   "metadata": {},
   "source": [
    "# Shakespeare Haiku"
   ]
  },
  {
   "cell_type": "code",
   "execution_count": 2,
   "metadata": {},
   "outputs": [],
   "source": [
    "import os\n",
    "import numpy as np\n",
    "from IPython.display import HTML\n",
    "import json\n",
    "from HMM import unsupervised_HMM\n",
    "from HMM_helper import (\n",
    "    text_to_wordcloud,\n",
    "    states_to_wordclouds,\n",
    "    parse_observations,\n",
    "    sample_sentence,\n",
    "    visualize_sparsities,\n",
    "    animate_emission, \n",
    ")\n",
    "import re\n",
    "import sys\n",
    "import random"
   ]
  },
  {
   "cell_type": "markdown",
   "metadata": {},
   "source": [
    "### Helper functions"
   ]
  },
  {
   "cell_type": "code",
   "execution_count": 59,
   "metadata": {},
   "outputs": [],
   "source": [
    "def parse_observations_haiku(text):\n",
    "    \"\"\"\n",
    "    Convert text to dataset. \n",
    "    \"\"\"\n",
    "    lines = [line.split() for line in text.split('\\n') if line.split()]\n",
    "\n",
    "    obs_counter = 0\n",
    "    obs = []\n",
    "    obs_map = {}\n",
    "\n",
    "    for line in lines:\n",
    "        obs_elem = []\n",
    "        \n",
    "        for word in line:\n",
    "            word = word.strip()\n",
    "            # Keep apostrophes and hyphens\n",
    "            word = re.sub(r'[^\\w\\-\\']', '', word).lower() \n",
    "            if word not in obs_map:\n",
    "                # Add unique words to the observations map.\n",
    "                obs_map[word] = obs_counter\n",
    "                obs_counter += 1\n",
    "            \n",
    "            # Add the encoded word.\n",
    "            obs_elem.append(obs_map[word])\n",
    "        \n",
    "        # Add the encoded sequence.\n",
    "        obs.append(obs_elem)\n",
    "\n",
    "    return obs, obs_map"
   ]
  },
  {
   "cell_type": "code",
   "execution_count": 90,
   "metadata": {},
   "outputs": [],
   "source": [
    "def build_syllables_dict(syllables): \n",
    "    \"\"\"\n",
    "    Build a syllables dictionary. \n",
    "    \"\"\"\n",
    "    lines = [line.split() for line in syllables.split('\\n') if line.split()]\n",
    "    syllables_dict = dict()\n",
    "    for line in lines: \n",
    "        word = line[0]\n",
    "        if len(line) > 2: \n",
    "            # Ignore end-of-line syllable count. \n",
    "            # Keep the larger syllable count if there are multiple possibilities.\n",
    "            if \"E\" in line[1]: \n",
    "                syllables_dict[word] = int(line[2])\n",
    "            elif \"E\" in line[2]: \n",
    "                syllables_dict[word] = int(line[1])\n",
    "            else: \n",
    "                syllables_dict[word] = int(line[2])\n",
    "        else: \n",
    "            syllables_dict[word] = int(line[1])\n",
    "    return syllables_dict"
   ]
  },
  {
   "cell_type": "code",
   "execution_count": 92,
   "metadata": {},
   "outputs": [],
   "source": [
    "def obs_map_reverser(obs_map):\n",
    "    obs_map_r = {}\n",
    "\n",
    "    for key in obs_map:\n",
    "        obs_map_r[obs_map[key]] = key\n",
    "\n",
    "    return obs_map_r\n",
    "\n",
    "def sample_haiku_line(hmm, obs_map, syllables_dict, n_syllables):\n",
    "    \"\"\"\n",
    "    Generate a sentence with the given number of syllables. \n",
    "    \"\"\"\n",
    "    obs_map_r = obs_map_reverser(obs_map)\n",
    "    # Keep generating until we are able to obtain a line \n",
    "    # that can be truncated to exactly n_syllables number of \n",
    "    # syllables. \n",
    "    while True: \n",
    "        count = 0\n",
    "        sentence = []\n",
    "        emission, states = hmm.generate_emission(10)\n",
    "        for i in emission: \n",
    "            word = obs_map_r[i]\n",
    "            syllables_count = syllables_dict[word]\n",
    "            count += syllables_count\n",
    "            sentence.append(word)\n",
    "            if count >= n_syllables: \n",
    "                break\n",
    "        if count == n_syllables: \n",
    "            break\n",
    "        \n",
    "    return ' '.join(sentence).capitalize()\n",
    "\n",
    "def sample_haiku(hmm, obs_map, syllables_dict): \n",
    "    \"\"\"\n",
    "    Generate a haiku. \n",
    "    \"\"\"\n",
    "    first = sample_haiku_line(hmm, obs_map, syllables_dict, 5)\n",
    "    second = sample_haiku_line(hmm, obs_map, syllables_dict, 7)\n",
    "    third = sample_haiku_line(hmm, obs_map, syllables_dict, 5)\n",
    "    return first + '\\n' + second + '\\n' + third"
   ]
  },
  {
   "cell_type": "markdown",
   "metadata": {},
   "source": [
    "### HMM Model"
   ]
  },
  {
   "cell_type": "code",
   "execution_count": 88,
   "metadata": {},
   "outputs": [],
   "source": [
    "syllables = open(os.path.join(os.getcwd(), 'data_Shakespeare/Syllable_dictionary.txt')).read()"
   ]
  },
  {
   "cell_type": "code",
   "execution_count": 91,
   "metadata": {},
   "outputs": [],
   "source": [
    "syllables = open(os.path.join(os.getcwd(), 'data_Shakespeare/Syllable_dictionary.txt')).read()\n",
    "syllables_dict = build_syllables_dict(syllables)"
   ]
  },
  {
   "cell_type": "code",
   "execution_count": 60,
   "metadata": {},
   "outputs": [],
   "source": [
    "text = open(os.path.join(os.getcwd(), 'data_Shakespeare/shakespeare.txt')).read()\n",
    "obs, obs_map = parse_observations_haiku(text)"
   ]
  },
  {
   "cell_type": "code",
   "execution_count": 63,
   "metadata": {},
   "outputs": [
    {
     "name": "stdout",
     "output_type": "stream",
     "text": [
      "Iteration: 10\n",
      "Iteration: 20\n",
      "Iteration: 30\n",
      "Iteration: 40\n",
      "Iteration: 50\n",
      "Iteration: 60\n",
      "Iteration: 70\n",
      "Iteration: 80\n",
      "Iteration: 90\n",
      "Iteration: 100\n"
     ]
    }
   ],
   "source": [
    "hmm = unsupervised_HMM(obs, 16, 100)"
   ]
  },
  {
   "cell_type": "markdown",
   "metadata": {},
   "source": [
    "### Generate Haikus"
   ]
  },
  {
   "cell_type": "code",
   "execution_count": 41,
   "metadata": {},
   "outputs": [
    {
     "name": "stdout",
     "output_type": "stream",
     "text": [
      "Art or his beauty\n",
      "Though in will than in me not\n",
      "Clouds him shall habit\n"
     ]
    }
   ],
   "source": [
    "print(sample_haiku(hmm, obs_map, syllables_dict))"
   ]
  },
  {
   "cell_type": "code",
   "execution_count": 96,
   "metadata": {},
   "outputs": [
    {
     "name": "stdout",
     "output_type": "stream",
     "text": [
      "I in a-doting\n",
      "See love who thou sky muse it\n",
      "Determination\n"
     ]
    }
   ],
   "source": [
    "print(sample_haiku(hmm, obs_map, syllables_dict))"
   ]
  },
  {
   "cell_type": "code",
   "execution_count": 97,
   "metadata": {},
   "outputs": [
    {
     "name": "stdout",
     "output_type": "stream",
     "text": [
      "How shady her will\n",
      "Or onset any gift a\n",
      "Have and still lies bred\n"
     ]
    }
   ],
   "source": [
    "print(sample_haiku(hmm, obs_map, syllables_dict))"
   ]
  },
  {
   "cell_type": "code",
   "execution_count": 106,
   "metadata": {},
   "outputs": [
    {
     "name": "stdout",
     "output_type": "stream",
     "text": [
      "What witness lends thy\n",
      "His own you nor can you place\n",
      "Wilfully our\n"
     ]
    }
   ],
   "source": [
    "print(sample_haiku(hmm, obs_map, syllables_dict))"
   ]
  },
  {
   "cell_type": "code",
   "execution_count": 108,
   "metadata": {},
   "outputs": [
    {
     "name": "stdout",
     "output_type": "stream",
     "text": [
      "Hath no having time\n",
      "And of you to these on the\n",
      "Lived love pen this love\n"
     ]
    }
   ],
   "source": [
    "print(sample_haiku(hmm, obs_map, syllables_dict))"
   ]
  }
 ],
 "metadata": {
  "kernelspec": {
   "display_name": "Python 3",
   "language": "python",
   "name": "python3"
  },
  "language_info": {
   "codemirror_mode": {
    "name": "ipython",
    "version": 3
   },
   "file_extension": ".py",
   "mimetype": "text/x-python",
   "name": "python",
   "nbconvert_exporter": "python",
   "pygments_lexer": "ipython3",
   "version": "3.7.4"
  }
 },
 "nbformat": 4,
 "nbformat_minor": 4
}
